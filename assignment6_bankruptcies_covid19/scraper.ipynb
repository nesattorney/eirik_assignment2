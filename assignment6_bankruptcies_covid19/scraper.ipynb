{
 "metadata": {
  "language_info": {
   "codemirror_mode": {
    "name": "ipython",
    "version": 3
   },
   "file_extension": ".py",
   "mimetype": "text/x-python",
   "name": "python",
   "nbconvert_exporter": "python",
   "pygments_lexer": "ipython3",
   "version": "3.8.2-final"
  },
  "orig_nbformat": 2,
  "kernelspec": {
   "name": "Python 3.8.2 64-bit",
   "display_name": "Python 3.8.2 64-bit",
   "metadata": {
    "interpreter": {
     "hash": "31f2aee4e71d21fbe5cf8b01ff0e069b9275f58929596ceb00d14d90e3e16cd6"
    }
   }
  }
 },
 "nbformat": 4,
 "nbformat_minor": 2,
 "cells": [
  {
   "cell_type": "code",
   "execution_count": 2,
   "metadata": {},
   "outputs": [],
   "source": [
    "from bs4 import BeautifulSoup\n",
    "import requests\n",
    "import csv\n",
    "import time\n",
    "import pandas as pd\n",
    "\n",
    "def cleantext(text):\n",
    "    return text.get_text().strip(\"\\n\").replace(\"\\xa0\", \"\").split(\"\\n\")\n"
   ]
  },
  {
   "cell_type": "code",
   "execution_count": 3,
   "metadata": {},
   "outputs": [],
   "source": [
    "#Get the html body we want to scrape\n",
    "url = \"https://w2.brreg.no/kunngjoring/kombisok.jsp?datoFra=01.01.2019&datoTil=02.01.2019&id_region=0&id_niva1=51&id_niva2=56&id_bransje1=0\"\n",
    "body = requests.get(url).content\n",
    "soup = BeautifulSoup(body, 'html.parser')\n"
   ]
  },
  {
   "source": [
    "test"
   ],
   "cell_type": "markdown",
   "metadata": {}
  },
  {
   "cell_type": "code",
   "execution_count": 4,
   "metadata": {},
   "outputs": [],
   "source": [
    "#locate the relevant table, and display all table rows in it\n",
    "myTable = soup.find_all(\"table\", style=\"border-color: #999999;\")\n",
    "trs = myTable[0].find_all(\"tr\")"
   ]
  },
  {
   "cell_type": "code",
   "execution_count": 5,
   "metadata": {},
   "outputs": [],
   "source": [
    "#remove newlines and other unwanted garbage\n",
    "cleanlist = [cleantext(x) for x in trs]"
   ]
  },
  {
   "cell_type": "code",
   "execution_count": 6,
   "metadata": {},
   "outputs": [],
   "source": [
    "#The table rows we want have exactly 12 elements each\n",
    "strippedlist = [item for item in cleanlist if len(item) == 12]"
   ]
  },
  {
   "cell_type": "code",
   "execution_count": 9,
   "metadata": {},
   "outputs": [],
   "source": [
    "#Only 4 of the 12 elements in the rows contain useful information\n",
    "#We remove all unwanted elements from each individual row\n",
    "relevantFields = [1, 4, 6, 8]\n",
    "relevantlist = [[row[i] for i in relevantFields] for row in strippedlist]"
   ]
  },
  {
   "cell_type": "code",
   "execution_count": 10,
   "metadata": {},
   "outputs": [],
   "source": [
    "\n",
    "finishedlist = [[element.strip() for element in row] for row in relevantlist]\n"
   ]
  },
  {
   "cell_type": "code",
   "execution_count": 11,
   "metadata": {},
   "outputs": [],
   "source": [
    "df = pd.DataFrame(finishedlist, columns=['name', 'number', 'date', 'status'])"
   ]
  },
  {
   "cell_type": "code",
   "execution_count": null,
   "metadata": {},
   "outputs": [],
   "source": []
  }
 ]
}